{
  "nbformat": 4,
  "nbformat_minor": 0,
  "metadata": {
    "colab": {
      "name": "Separable.ipynb",
      "provenance": [],
      "collapsed_sections": [],
      "toc_visible": true
    },
    "kernelspec": {
      "name": "python3",
      "display_name": "Python 3"
    },
    "language_info": {
      "name": "python"
    },
    "accelerator": "GPU",
    "gpuClass": "standard"
  },
  "cells": [
    {
      "cell_type": "markdown",
      "source": [
        "# Depthwise convolution"
      ],
      "metadata": {
        "id": "aFvjCCCi1G6R"
      }
    },
    {
      "cell_type": "markdown",
      "source": [
        "Big thanks w/ code [christianversloot](https://github.com/christianversloot/machine-learning-articles)"
      ],
      "metadata": {
        "id": "x0r1gXLs1P3a"
      }
    },
    {
      "cell_type": "code",
      "execution_count": 4,
      "metadata": {
        "id": "0Pj9KRPO1BFe"
      },
      "outputs": [],
      "source": [
        "import tensorflow as tf\n",
        "from tensorflow.keras.datasets import mnist\n",
        "from tensorflow.keras.models import Sequential\n",
        "from tensorflow.keras.layers import Dense, Dropout, Flatten\n",
        "from tensorflow.keras.layers import Conv2D, MaxPooling2D\n"
      ]
    },
    {
      "cell_type": "code",
      "source": [
        "(image_width, image_height) = (28, 28)\n",
        "batch_size = 250\n",
        "number_of_epochs = 25\n",
        "number_of_classes = 10\n",
        "validation_split = 0.2\n",
        "verbosity = 1"
      ],
      "metadata": {
        "id": "jKZ_ZE-12ly6"
      },
      "execution_count": 5,
      "outputs": []
    },
    {
      "cell_type": "code",
      "source": [
        "(input_train, target_train), (input_test, target_test) = mnist.load_data()"
      ],
      "metadata": {
        "colab": {
          "base_uri": "https://localhost:8080/"
        },
        "id": "ardL8QUp2-MC",
        "outputId": "aeadf8e0-6ca1-4874-cde6-c0ddbe0c9d62"
      },
      "execution_count": 6,
      "outputs": [
        {
          "output_type": "stream",
          "name": "stdout",
          "text": [
            "Downloading data from https://storage.googleapis.com/tensorflow/tf-keras-datasets/mnist.npz\n",
            "11493376/11490434 [==============================] - 0s 0us/step\n",
            "11501568/11490434 [==============================] - 0s 0us/step\n"
          ]
        }
      ]
    },
    {
      "cell_type": "code",
      "source": [
        "input_train = input_train.reshape(input_train.shape[0], image_width, image_height, 1)\n",
        "input_test = input_test.reshape(input_test.shape[0], image_width, image_height, 1)\n",
        "input_shape = (image_width, image_height, 1)"
      ],
      "metadata": {
        "id": "iV0Drn6g3TPm"
      },
      "execution_count": 7,
      "outputs": []
    },
    {
      "cell_type": "code",
      "source": [
        "input_train = input_train.astype('float32')\n",
        "input_test = input_test.astype('float32')"
      ],
      "metadata": {
        "id": "JJ6qGsHh371r"
      },
      "execution_count": 8,
      "outputs": []
    },
    {
      "cell_type": "code",
      "source": [
        "input_train /= 255\n",
        "input_test /= 255"
      ],
      "metadata": {
        "id": "7gMOMMlc8Rji"
      },
      "execution_count": 9,
      "outputs": []
    },
    {
      "cell_type": "code",
      "source": [
        "target_train = tf.keras.utils.to_categorical(target_train, number_of_classes)\n",
        "traget_test = tf.keras.utils.to_categorical(target_test, number_of_classes)"
      ],
      "metadata": {
        "id": "CVHb5WUV4LF6"
      },
      "execution_count": 10,
      "outputs": []
    },
    {
      "cell_type": "code",
      "source": [
        "model = Sequential()\n",
        "model.add(Conv2D(32, (3,3), activation='relu', input_shape=input_shape))\n",
        "model.add(MaxPooling2D((2,2)))\n",
        "model.add(Dropout(0.25))\n",
        "model.add(Conv2D(64, (3,3), activation='relu'))\n",
        "model.add(MaxPooling2D((2,2)))\n",
        "model.add(Dropout(0.25))\n",
        "model.add(Flatten())\n",
        "model.add(Dense(256, activation='relu'))\n",
        "model.add(Dense(number_of_classes, activation='softmax'))"
      ],
      "metadata": {
        "id": "HFRyOjGz4udi"
      },
      "execution_count": 11,
      "outputs": []
    },
    {
      "cell_type": "code",
      "source": [
        "model.summary()"
      ],
      "metadata": {
        "colab": {
          "base_uri": "https://localhost:8080/"
        },
        "id": "Tyz0ZSb36CBS",
        "outputId": "20f9f0d7-0ddd-4a54-9d13-9fb05476f8d2"
      },
      "execution_count": 12,
      "outputs": [
        {
          "output_type": "stream",
          "name": "stdout",
          "text": [
            "Model: \"sequential\"\n",
            "_________________________________________________________________\n",
            " Layer (type)                Output Shape              Param #   \n",
            "=================================================================\n",
            " conv2d (Conv2D)             (None, 26, 26, 32)        320       \n",
            "                                                                 \n",
            " max_pooling2d (MaxPooling2D  (None, 13, 13, 32)       0         \n",
            " )                                                               \n",
            "                                                                 \n",
            " dropout (Dropout)           (None, 13, 13, 32)        0         \n",
            "                                                                 \n",
            " conv2d_1 (Conv2D)           (None, 11, 11, 64)        18496     \n",
            "                                                                 \n",
            " max_pooling2d_1 (MaxPooling  (None, 5, 5, 64)         0         \n",
            " 2D)                                                             \n",
            "                                                                 \n",
            " dropout_1 (Dropout)         (None, 5, 5, 64)          0         \n",
            "                                                                 \n",
            " flatten (Flatten)           (None, 1600)              0         \n",
            "                                                                 \n",
            " dense (Dense)               (None, 256)               409856    \n",
            "                                                                 \n",
            " dense_1 (Dense)             (None, 10)                2570      \n",
            "                                                                 \n",
            "=================================================================\n",
            "Total params: 431,242\n",
            "Trainable params: 431,242\n",
            "Non-trainable params: 0\n",
            "_________________________________________________________________\n"
          ]
        }
      ]
    },
    {
      "cell_type": "code",
      "source": [
        "model.compile(loss=tf.keras.losses.categorical_crossentropy,\n",
        "              optimizer=tf.keras.optimizers.Adam(),\n",
        "              metrics=['accuracy'])"
      ],
      "metadata": {
        "id": "knbDgYL56t_K"
      },
      "execution_count": 13,
      "outputs": []
    },
    {
      "cell_type": "code",
      "source": [
        "model.fit(input_train, target_train,\n",
        "          batch_size=batch_size,\n",
        "          epochs=number_of_epochs,\n",
        "          verbose=verbosity,\n",
        "          validation_split=validation_split)"
      ],
      "metadata": {
        "colab": {
          "base_uri": "https://localhost:8080/"
        },
        "id": "52bazsge7C5p",
        "outputId": "a9775290-b6d5-4daa-ebb9-a3f142074157"
      },
      "execution_count": 14,
      "outputs": [
        {
          "output_type": "stream",
          "name": "stdout",
          "text": [
            "Epoch 1/25\n",
            "192/192 [==============================] - 13s 9ms/step - loss: 0.3603 - accuracy: 0.8905 - val_loss: 0.0947 - val_accuracy: 0.9710\n",
            "Epoch 2/25\n",
            "192/192 [==============================] - 2s 8ms/step - loss: 0.0967 - accuracy: 0.9701 - val_loss: 0.0647 - val_accuracy: 0.9814\n",
            "Epoch 3/25\n",
            "192/192 [==============================] - 2s 8ms/step - loss: 0.0691 - accuracy: 0.9779 - val_loss: 0.0534 - val_accuracy: 0.9852\n",
            "Epoch 4/25\n",
            "192/192 [==============================] - 1s 8ms/step - loss: 0.0560 - accuracy: 0.9821 - val_loss: 0.0436 - val_accuracy: 0.9872\n",
            "Epoch 5/25\n",
            "192/192 [==============================] - 2s 8ms/step - loss: 0.0482 - accuracy: 0.9849 - val_loss: 0.0350 - val_accuracy: 0.9902\n",
            "Epoch 6/25\n",
            "192/192 [==============================] - 1s 8ms/step - loss: 0.0416 - accuracy: 0.9875 - val_loss: 0.0404 - val_accuracy: 0.9882\n",
            "Epoch 7/25\n",
            "192/192 [==============================] - 1s 8ms/step - loss: 0.0341 - accuracy: 0.9888 - val_loss: 0.0350 - val_accuracy: 0.9898\n",
            "Epoch 8/25\n",
            "192/192 [==============================] - 1s 7ms/step - loss: 0.0306 - accuracy: 0.9899 - val_loss: 0.0346 - val_accuracy: 0.9903\n",
            "Epoch 9/25\n",
            "192/192 [==============================] - 1s 7ms/step - loss: 0.0271 - accuracy: 0.9913 - val_loss: 0.0309 - val_accuracy: 0.9915\n",
            "Epoch 10/25\n",
            "192/192 [==============================] - 1s 8ms/step - loss: 0.0249 - accuracy: 0.9919 - val_loss: 0.0309 - val_accuracy: 0.9911\n",
            "Epoch 11/25\n",
            "192/192 [==============================] - 2s 8ms/step - loss: 0.0214 - accuracy: 0.9929 - val_loss: 0.0297 - val_accuracy: 0.9912\n",
            "Epoch 12/25\n",
            "192/192 [==============================] - 1s 8ms/step - loss: 0.0186 - accuracy: 0.9937 - val_loss: 0.0310 - val_accuracy: 0.9923\n",
            "Epoch 13/25\n",
            "192/192 [==============================] - 1s 8ms/step - loss: 0.0192 - accuracy: 0.9934 - val_loss: 0.0282 - val_accuracy: 0.9923\n",
            "Epoch 14/25\n",
            "192/192 [==============================] - 1s 8ms/step - loss: 0.0162 - accuracy: 0.9946 - val_loss: 0.0317 - val_accuracy: 0.9918\n",
            "Epoch 15/25\n",
            "192/192 [==============================] - 2s 8ms/step - loss: 0.0153 - accuracy: 0.9950 - val_loss: 0.0289 - val_accuracy: 0.9925\n",
            "Epoch 16/25\n",
            "192/192 [==============================] - 1s 7ms/step - loss: 0.0148 - accuracy: 0.9950 - val_loss: 0.0319 - val_accuracy: 0.9912\n",
            "Epoch 17/25\n",
            "192/192 [==============================] - 1s 7ms/step - loss: 0.0148 - accuracy: 0.9948 - val_loss: 0.0334 - val_accuracy: 0.9918\n",
            "Epoch 18/25\n",
            "192/192 [==============================] - 1s 8ms/step - loss: 0.0122 - accuracy: 0.9956 - val_loss: 0.0290 - val_accuracy: 0.9927\n",
            "Epoch 19/25\n",
            "192/192 [==============================] - 1s 7ms/step - loss: 0.0104 - accuracy: 0.9964 - val_loss: 0.0324 - val_accuracy: 0.9920\n",
            "Epoch 20/25\n",
            "192/192 [==============================] - 1s 8ms/step - loss: 0.0111 - accuracy: 0.9962 - val_loss: 0.0311 - val_accuracy: 0.9928\n",
            "Epoch 21/25\n",
            "192/192 [==============================] - 1s 8ms/step - loss: 0.0099 - accuracy: 0.9967 - val_loss: 0.0325 - val_accuracy: 0.9924\n",
            "Epoch 22/25\n",
            "192/192 [==============================] - 1s 8ms/step - loss: 0.0096 - accuracy: 0.9966 - val_loss: 0.0307 - val_accuracy: 0.9929\n",
            "Epoch 23/25\n",
            "192/192 [==============================] - 1s 8ms/step - loss: 0.0095 - accuracy: 0.9967 - val_loss: 0.0296 - val_accuracy: 0.9927\n",
            "Epoch 24/25\n",
            "192/192 [==============================] - 1s 8ms/step - loss: 0.0083 - accuracy: 0.9973 - val_loss: 0.0334 - val_accuracy: 0.9915\n",
            "Epoch 25/25\n",
            "192/192 [==============================] - 2s 8ms/step - loss: 0.0080 - accuracy: 0.9972 - val_loss: 0.0381 - val_accuracy: 0.9915\n"
          ]
        },
        {
          "output_type": "execute_result",
          "data": {
            "text/plain": [
              "<keras.callbacks.History at 0x7f54e05562d0>"
            ]
          },
          "metadata": {},
          "execution_count": 14
        }
      ]
    },
    {
      "cell_type": "markdown",
      "source": [
        "# Separable convolutions"
      ],
      "metadata": {
        "id": "Un2DMtyM85Lz"
      }
    },
    {
      "cell_type": "code",
      "source": [
        "import tensorflow as tf\n",
        "from tensorflow.keras.datasets import mnist\n",
        "from tensorflow.keras.models import Sequential\n",
        "from tensorflow.keras.layers import Dense, Dropout, Flatten\n",
        "from tensorflow.keras.layers import SeparableConv2D, MaxPooling2D"
      ],
      "metadata": {
        "id": "FEVZiZbS8_W7"
      },
      "execution_count": 18,
      "outputs": []
    },
    {
      "cell_type": "code",
      "source": [
        "(image_width, image_height) = (28, 28)\n",
        "batch_size = 250\n",
        "number_of_epochs = 25\n",
        "number_of_classes = 10\n",
        "validation_split = 0.2\n",
        "verbosity = 1"
      ],
      "metadata": {
        "id": "hBU2kDPS9dUM"
      },
      "execution_count": 19,
      "outputs": []
    },
    {
      "cell_type": "code",
      "source": [
        "(input_train, target_train), (input_test, target_test) = mnist.load_data()"
      ],
      "metadata": {
        "id": "_oVi0K429yn7"
      },
      "execution_count": 20,
      "outputs": []
    },
    {
      "cell_type": "code",
      "source": [
        "input_train = input_train.reshape(input_train.shape[0], image_width, image_height, 1)\n",
        "input_test = input_test.reshape(input_test.shape[0], image_width, image_height, 1)\n",
        "input_shape = (image_width, image_height, 1)"
      ],
      "metadata": {
        "id": "dyhfmvBz9-gy"
      },
      "execution_count": 21,
      "outputs": []
    },
    {
      "cell_type": "code",
      "source": [
        "input_train = input_train.astype('float32')\n",
        "input_test = input_test.astype('float32')"
      ],
      "metadata": {
        "id": "5KbVqRfR-YgU"
      },
      "execution_count": 22,
      "outputs": []
    },
    {
      "cell_type": "code",
      "source": [
        "input_train /= 255\n",
        "input_test /= 255"
      ],
      "metadata": {
        "id": "7qnca2c4-k4r"
      },
      "execution_count": 23,
      "outputs": []
    },
    {
      "cell_type": "code",
      "source": [
        "target_train = tf.keras.utils.to_categorical(target_train, number_of_classes)\n",
        "target_test = tf.keras.utils.to_categorical(target_test, number_of_classes)"
      ],
      "metadata": {
        "id": "mw04_ORO-pAj"
      },
      "execution_count": 25,
      "outputs": []
    },
    {
      "cell_type": "code",
      "source": [
        "model = Sequential()\n",
        "model.add(SeparableConv2D(32, (3,3), activation='relu', input_shape=input_shape))\n",
        "model.add(MaxPooling2D((2,2)))\n",
        "model.add(Dropout(0.25))\n",
        "model.add(SeparableConv2D(64, (3,3), activation='relu'))\n",
        "model.add(MaxPooling2D((2,2)))\n",
        "model.add(Dropout(0.25))\n",
        "model.add(Flatten())\n",
        "model.add(Dense(256, activation='relu'))\n",
        "model.add(Dense(number_of_classes, activation='softmax'))"
      ],
      "metadata": {
        "id": "nYl4icjI-2-D"
      },
      "execution_count": 30,
      "outputs": []
    },
    {
      "cell_type": "code",
      "source": [
        "model.summary()"
      ],
      "metadata": {
        "colab": {
          "base_uri": "https://localhost:8080/"
        },
        "id": "mVQBWcVB_vvd",
        "outputId": "456e9c43-a9bb-4ca6-ccca-1a371baf1888"
      },
      "execution_count": 31,
      "outputs": [
        {
          "output_type": "stream",
          "name": "stdout",
          "text": [
            "Model: \"sequential_2\"\n",
            "_________________________________________________________________\n",
            " Layer (type)                Output Shape              Param #   \n",
            "=================================================================\n",
            " separable_conv2d_2 (Separab  (None, 26, 26, 32)       73        \n",
            " leConv2D)                                                       \n",
            "                                                                 \n",
            " max_pooling2d_4 (MaxPooling  (None, 13, 13, 32)       0         \n",
            " 2D)                                                             \n",
            "                                                                 \n",
            " dropout_4 (Dropout)         (None, 13, 13, 32)        0         \n",
            "                                                                 \n",
            " separable_conv2d_3 (Separab  (None, 11, 11, 64)       2400      \n",
            " leConv2D)                                                       \n",
            "                                                                 \n",
            " max_pooling2d_5 (MaxPooling  (None, 5, 5, 64)         0         \n",
            " 2D)                                                             \n",
            "                                                                 \n",
            " dropout_5 (Dropout)         (None, 5, 5, 64)          0         \n",
            "                                                                 \n",
            " flatten_2 (Flatten)         (None, 1600)              0         \n",
            "                                                                 \n",
            " dense_4 (Dense)             (None, 256)               409856    \n",
            "                                                                 \n",
            " dense_5 (Dense)             (None, 10)                2570      \n",
            "                                                                 \n",
            "=================================================================\n",
            "Total params: 414,899\n",
            "Trainable params: 414,899\n",
            "Non-trainable params: 0\n",
            "_________________________________________________________________\n"
          ]
        }
      ]
    },
    {
      "cell_type": "code",
      "source": [
        "model.compile(loss=tf.keras.losses.categorical_crossentropy,\n",
        "              optimizer=tf.keras.optimizers.Adam(),\n",
        "              metrics=['accuracy'])"
      ],
      "metadata": {
        "id": "Sk-bgP0X_7DU"
      },
      "execution_count": 34,
      "outputs": []
    },
    {
      "cell_type": "code",
      "source": [
        "model.fit(input_train, target_train,\n",
        "          batch_size=batch_size,\n",
        "          epochs=number_of_epochs,\n",
        "          verbose=verbosity,\n",
        "          validation_split=validation_split)"
      ],
      "metadata": {
        "colab": {
          "base_uri": "https://localhost:8080/"
        },
        "id": "AevDNNb_AL50",
        "outputId": "ce3992c5-6658-4739-94cb-797e26406934"
      },
      "execution_count": 35,
      "outputs": [
        {
          "output_type": "stream",
          "name": "stdout",
          "text": [
            "Epoch 1/25\n",
            "192/192 [==============================] - 3s 12ms/step - loss: 0.5885 - accuracy: 0.8297 - val_loss: 0.2017 - val_accuracy: 0.9417\n",
            "Epoch 2/25\n",
            "192/192 [==============================] - 2s 10ms/step - loss: 0.1892 - accuracy: 0.9416 - val_loss: 0.1224 - val_accuracy: 0.9641\n",
            "Epoch 3/25\n",
            "192/192 [==============================] - 2s 10ms/step - loss: 0.1343 - accuracy: 0.9574 - val_loss: 0.0930 - val_accuracy: 0.9715\n",
            "Epoch 4/25\n",
            "192/192 [==============================] - 2s 11ms/step - loss: 0.1094 - accuracy: 0.9651 - val_loss: 0.0849 - val_accuracy: 0.9727\n",
            "Epoch 5/25\n",
            "192/192 [==============================] - 2s 10ms/step - loss: 0.0933 - accuracy: 0.9702 - val_loss: 0.0689 - val_accuracy: 0.9782\n",
            "Epoch 6/25\n",
            "192/192 [==============================] - 2s 11ms/step - loss: 0.0794 - accuracy: 0.9750 - val_loss: 0.0743 - val_accuracy: 0.9786\n",
            "Epoch 7/25\n",
            "192/192 [==============================] - 2s 10ms/step - loss: 0.0715 - accuracy: 0.9770 - val_loss: 0.0625 - val_accuracy: 0.9816\n",
            "Epoch 8/25\n",
            "192/192 [==============================] - 2s 10ms/step - loss: 0.0652 - accuracy: 0.9791 - val_loss: 0.0570 - val_accuracy: 0.9827\n",
            "Epoch 9/25\n",
            "192/192 [==============================] - 2s 10ms/step - loss: 0.0593 - accuracy: 0.9812 - val_loss: 0.0591 - val_accuracy: 0.9814\n",
            "Epoch 10/25\n",
            "192/192 [==============================] - 2s 11ms/step - loss: 0.0549 - accuracy: 0.9825 - val_loss: 0.0488 - val_accuracy: 0.9849\n",
            "Epoch 11/25\n",
            "192/192 [==============================] - 2s 10ms/step - loss: 0.0489 - accuracy: 0.9842 - val_loss: 0.0492 - val_accuracy: 0.9852\n",
            "Epoch 12/25\n",
            "192/192 [==============================] - 2s 10ms/step - loss: 0.0466 - accuracy: 0.9839 - val_loss: 0.0497 - val_accuracy: 0.9850\n",
            "Epoch 13/25\n",
            "192/192 [==============================] - 2s 10ms/step - loss: 0.0415 - accuracy: 0.9864 - val_loss: 0.0474 - val_accuracy: 0.9848\n",
            "Epoch 14/25\n",
            "192/192 [==============================] - 2s 10ms/step - loss: 0.0396 - accuracy: 0.9868 - val_loss: 0.0497 - val_accuracy: 0.9847\n",
            "Epoch 15/25\n",
            "192/192 [==============================] - 2s 10ms/step - loss: 0.0376 - accuracy: 0.9876 - val_loss: 0.0445 - val_accuracy: 0.9859\n",
            "Epoch 16/25\n",
            "192/192 [==============================] - 2s 11ms/step - loss: 0.0339 - accuracy: 0.9888 - val_loss: 0.0481 - val_accuracy: 0.9850\n",
            "Epoch 17/25\n",
            "192/192 [==============================] - 2s 10ms/step - loss: 0.0314 - accuracy: 0.9899 - val_loss: 0.0464 - val_accuracy: 0.9859\n",
            "Epoch 18/25\n",
            "192/192 [==============================] - 2s 11ms/step - loss: 0.0303 - accuracy: 0.9896 - val_loss: 0.0445 - val_accuracy: 0.9862\n",
            "Epoch 19/25\n",
            "192/192 [==============================] - 2s 10ms/step - loss: 0.0291 - accuracy: 0.9904 - val_loss: 0.0479 - val_accuracy: 0.9869\n",
            "Epoch 20/25\n",
            "192/192 [==============================] - 2s 10ms/step - loss: 0.0278 - accuracy: 0.9901 - val_loss: 0.0422 - val_accuracy: 0.9868\n",
            "Epoch 21/25\n",
            "192/192 [==============================] - 2s 10ms/step - loss: 0.0264 - accuracy: 0.9909 - val_loss: 0.0477 - val_accuracy: 0.9868\n",
            "Epoch 22/25\n",
            "192/192 [==============================] - 2s 11ms/step - loss: 0.0230 - accuracy: 0.9919 - val_loss: 0.0483 - val_accuracy: 0.9863\n",
            "Epoch 23/25\n",
            "192/192 [==============================] - 2s 11ms/step - loss: 0.0216 - accuracy: 0.9928 - val_loss: 0.0442 - val_accuracy: 0.9877\n",
            "Epoch 24/25\n",
            "192/192 [==============================] - 2s 11ms/step - loss: 0.0222 - accuracy: 0.9927 - val_loss: 0.0452 - val_accuracy: 0.9878\n",
            "Epoch 25/25\n",
            "192/192 [==============================] - 2s 10ms/step - loss: 0.0205 - accuracy: 0.9930 - val_loss: 0.0469 - val_accuracy: 0.9868\n"
          ]
        },
        {
          "output_type": "execute_result",
          "data": {
            "text/plain": [
              "<keras.callbacks.History at 0x7f54e005f150>"
            ]
          },
          "metadata": {},
          "execution_count": 35
        }
      ]
    },
    {
      "cell_type": "markdown",
      "source": [
        "# Summary"
      ],
      "metadata": {
        "id": "UlsPAIwfA1Pz"
      }
    },
    {
      "cell_type": "markdown",
      "source": [
        "As you can see differences between these layers:\n",
        "\n",
        "\n",
        "1.   ![colab_1.png](data:image/png;base64,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)\n",
        "2.   ![colab_2.png](data:image/png;base64,iVBORw0KGgoAAAANSUhEUgAAAhwAAAIkCAYAAABV1/K8AAAAAXNSR0IArs4c6QAAAARnQU1BAACxjwv8YQUAAAAJcEhZcwAADsMAAA7DAcdvqGQAAFuySURBVHhe7b2/kpNLk2/9mXMJxzzcxgQ3MM4E3AF4x8ObGAP/BBeAzbbxdxzzdbFxwR5vY+L2N4uXH5M7qXoeSa3qltRrRVRIT/3JysrKykqp6eb/uxMRERFZjAmHiIiILMeEQ0RERJZjwiEiIiLLMeEQERGR5ZhwiIiIyHJMOERERGQ5j55wfPny5e7169d33759+1mzzbt37+6ePXv2o3z8+PFn7Xn49OnT3fPnz3/ohOyXL18erNe1w3qxKTY4BvdDREQO4eiEg+DPJVAvFy6dUy+DYxOOwJxecIfx/fv3uzdv3mwmE6z3lIQjnLIf0SsJCzIqJhwiIrfD0QkHl8CLFy/u3r9//+OZC4BL45SkAS4p4ai6sE7WxaV47RyScNyXU/aD/hmDzUkoqoxb3Q8RkafISQnH27dvf1wwuQj+/PPPHxcDFwTwyifTrU+uaaPUT657n3rD1gVHfT4Zn5Oud5+f57T1T+N9XXU8/ar9oK9vJhu57Ae6Ud/bkZNxtdS5M25mszr3rM/WfhwKMigiInJ7nJRw5HLh/R9//HH39evXXxdmLjDaIM+5jOjDNyS5tHjNp1iol04u6dFFFh1GUH/uhAP9elJQyYWfdaBD/URe1wVV/5Hs2r4lOzbKekc2S132ZMRsfTyTUIa+rrC1H4fSbSQiIrfD0QkHlwqXAhcRn6xJOOplNbqQuOhS1y8mxiThoNAvFyvUsZVzXHDHgE41ceqgT73Qq03qGkPVv/YNtX1L9iiZYBxjwqhPZ6TDiNFaoOp7Cui24lspERG5DE5OOOolxnuSDy6LftkBfZI09IupXmC859LJ1/cpl5BwQNWvfuMQW3S9c4HWNYaq/+iyT/ue7LSvSjhG89e1h/vsB3Oyni39RETkujkp4egXS73QaOM9daHW9YupXsb1/R73ueDOAXPn4t270EfrqvpTv5dwzGSP2hnH+LAnA0Y6AHKydzDbo1P3A3kkG6eMFRGR6+HsCUcukFxuXExczHlmbC6wtPWLu16WM7YuOOrzDcAqWE/9pM+c9bkysgHfFET/vfYt2aNkgv7dhjxv2RXZs4Qj4zLXSBf6RN9DMdkQEXk6HJ1wjC6WfunlIslX8LV/+lKfxITnXGC1vY/PxVzbanvg+dwJB3rWOUfymbf2YR2sB+r4XOJV7732mexue6Av4yvddpHd10Wpa+t7+eHDh1/fcBy6HzPQsY89976JiMhlcHTCIeehJxQiIiK3jAnHI2HCISIiTwkTjkfi1hMO1tZ/XJLij01ERJ4eJhwiIiKyHBMOERERWY4Jh4iIiCzHhENERESWY8IhIiIiyzHhEBERkeWYcIiIiMhyTDhERERkOSYcIiIishwTDhEREVmOCYeIiIgsx4RDRERElmPCISIiIssx4RAREZHlmHCIiIjIckw4REREZDlHJRzfvn27e/ny5d2zZ8+G5T//8z/vnj9/Pmyj/Md//MewnvKv//qvd//2b/82bKPcRzbjGD9qo/z7v//7jzJqo7x+/XpYT7mv7L11bc19X9n3sRl7xZ6N2igr90Ob/V721vWYPry1Ls/9uP1Sbea5/71cs80+fvz483Z/GPyGQ0RERJZjwiEiIiLLMeEQERGR5ZhwiIiIyHJMOCZ8+vTp7s2bN3ffv3//WfO4vHv37odOIk8N/rE6/yDwy5cvP2tE5BpZknDwL1+5IK8VAtuLFy9+C3A8E/gIgA/NTCd5enC+8q/M+Rfox/jESh8mOSdJPyUxHv0GXOSYcMihcO9UH8KnHiNenwL+/fbt2x/n6Nrv0BkmHI0EzdGvC60M1odwad+6yMODX1Yf4PmYoHqJCcfWmQMTDjkU7p169xx7Ph4T/Pv9+/c/3qP37DxcM4+ScBCQahaaAMVrd45exyvPGVs3JcH069evv/oce0EzXx/T50zJp8u0Zx1Q65BF5pq1MJbXrAm21hVODehyG+Aj/eKtPjHyj5zF7l8p9RsS+qZ/2iNrSzbUMbWM/LjD/Fvf3mXdf/7556+/KdDPKHrVebues3VB1pa2rEmuD/au7l/8vvtx9rr6UfXx+Er/BnHmZ8zDWBIG6j98+PDj+ZBvILtOtfR74tp58IQD4/3xxx8/n/6eUHTngOpA2ZgEsd6fjWWDs8kjeXsw1yxIInP26bDqCXVd0bs63zHrqmzZVm6bmf/Fl2rADN1ftnyYvgS5+OHIh7dkj/ocwuh8VHIeokueMw/Ps5gCW+uC2A/6WZTrou4ldF8haY2P9b3Oc/WVKm/LzzIPfalHBq88H+pL9KOceo6ugUf/kQobVT+11bG9jdf8jCvU/rQTtOpGHbPhexuN/Fmw7m113pFc3lNH2966KnWcPC1mex9fGflZ96MtH+596/k7RPaozzEgj0BdAz70OADMW/tUev+tdfEenXkNnrHrhX2ue837rb2svhH/reO3fKH7Ud7XMcia+WmHfpQq69Z4lISDtgQWSv1kwyvGxuhsXN/8Oi4lferYU2BczYY7W/LjrIylnffpV9sC75Md762rct81yvUy23v8hDM38rN+Frf8p/elT87DIbJHfU4BHYkJkY0e6Ex9yJoDz/Xs1Jiyta7MVcdSWAfrkeui+0Hfx9F+xzcO8d+Zn1UfZXzmpX/10xEzH6Tsjb02HjzhoC0XLfRgUjcdGXXz60aOQMYsmB7CnsPtyc+6o3sYya1r2VtX5Zi+clv0swLVt0Z+1s/ilg/3vnW+Q2SP+pwKsuPno3UzL32A162YsrWuLXvI9cE+172usMf4SfwGqm/s+e+Wn9X3jI/vVj/dos59yz75KAlHNgPoVz+NAEbnH5H1HzOMHKZyjo3acpDMP3PION2rV6/+tp7uyH0de+uq0GdmW7l92Pt6fvCHPMfP4kf4G5+Sqr9s+XD3rTrXIbKB5153LJkrcnKu6pmiLbpUGwBtNaYcsq7aLtcL+zjby+77+Ad+kv7xhdHZgC0/qz7K+PSjT/x0C/py3zGe0u++W2FZwlG/FqqBKZueev5Vbw8m6TPaqD6eUh3ovgkHspA/k0F75u2JErDO6pTAe+qqzn1tW+sKkdPr5WmBj8VHuq/hj/hl2vjX8jl7YebD/dyeIrv78SHBtuqTUuUicyvh6HP2mLK3rkPOp1wH+EX3yUr1BXwGX0n/vfi65WfVRxkfH6t+usVs/K2xJOG4L6MA81DE6U4NOCMH23PkQ7llR5THB7/dCtbXyq2uS+TauMiEg+DwmAGCROeUv+pJQkAGTMJUOUfCcapOIodiwiEiK7mohIOgwFdVl/Ap/phvE+iL3qMfscA5Eg5sc5/xInuYcIjISi7yGw4RERG5LUw4REREZDkmHCIiIrIcEw4RERFZjgmHiIiILMeEQ0RERJZjwiEiIiLLMeEQERGR5ZhwiIiIyHJMOERERGQ5Rycc/X/MS8mfAedPe+d/lKwlf1qYPzPc2yj82e6VsoF+vS1/jnxv7pWy99a1UvZ91rVStjb7e7l2H96a+zH3Q5v9vRyyrpWy77uulbJv1WYPid9wiIiIyHL8huPALNGs/X9K5l4pW5v9vVy7D2/N/Zj7oc3+Xg5Z10rZ913XStm3arOHxG84REREZDkmHCIiIrIcEw4RERFZjgmHiIiILMeEQ0RERJZjwiEiIiLLMeEQERGR5ZhwiIiIyHJMOERERGQ5Jhw/4S+y8ZfZ8pfdOvWvueUvvD1FsE/+gt1D8ljznhv86PXr1w/iP7diMzkNfOzt27fuv1wMJhw/2Us4wkNeGA9F/bO5exfUsZfYMbJnYOsXL178ZnOe65/svYZE8KH8Z2Qz9qLa6FCfvwTQcW+f65+HPtXXRhziw7UP788Ba6z+3efu7aN9RJdz6XPpxJ9jj5TqL3WfKNfg+7eECcdPDg2+t5ZwsN4EpNhgK0DRfxZ0O8fKHpFxXCaVfON0bQHjIfxnZjNs/+rVq1/16XfpNsRm6MkroD97n2dgbfQ5xC+PYc+HR3WrYI6qC99exI/Qc5SIXcser4J1d18J2Gr0QUbWsSThYHPrfybTAwFOkLZ6SHKI4iS0d2fpsutBRw7B/OvXr7/69Lnrp6A+N33//PPP6dzA8+zCqLJHY/eo4yk1SLDO1B9jM2SObNDrwqx/5qbMxu6xNe8M1jUak/Vu2bjqXfsi67H8DLmMxc+oH429LzObsYb379//aEMP2nlP/3Cqn0G3GTZYATrVi4JXdDunDWd0H8Ye1TdWwtyzuWL7updh5g9PAew188OcxfiRrGdJwrG1yT1YJIDVAFgDHbLqIfvjjz9+Bbl+yBjD2IwftRPoQw0eh8wNMyet64AemPagfx1f6bJq3653nukD1I2+Wk97p8/V18XzMeuqdNmHMNMVfdBrZrOt/YiNHsPP0je6RZfRGk9lZrPUU9A1c0fvqmeeu54zP+vP3SbnhPmrTzMnCQfzr052kFtthE1J4lhr5l6x5th3JnvL3rQ9xYuV9bJu1j8CW9W9lPUsSzhmG8mBrcGgHqTRodpzihpccTACYh0/C75QHXI2dwJumB1e5qljjznk9N0KFr1tz2asF31CtQHy6M9rp9vvlP2YMdqbPUbzd1jbKNBv7ccp66o2HK2ltnfoHz+regTGnWLTEVs2i47MzQUdX6Av7+/jZ5FZ11Dbz0X0qHJ5n0QIeD3W1w6hy40uNUbQVnW5L8iLfzNXtW8FG8zao+e57XHpYJN+JmOLUcyQ9SxJOLY2FSdIfS30GR0M3vcD3cfGqTjkCewjul6UyB7NPZLH+35hjORSDg089Jn9LHFrvpnNeqCnjT705X1tC8yDLeoBHcmusg5lJPsQMq7OP4M+2Jw5ovdsP2bregg/o/T9ZK5jbTpjy2Y1APOp/PPnz7/sMNKr2mlkM2TFl6iv600Z+dp9QF63VV1XGNXdh9i1yhzZZFR3LpBZfTSg06i+cm57XDr48SymhuzVU7LLY7P8H42y4fVTwZbjjw4r7xNguiyo8mjfugjoG1lQ++/NHei7FZhPYSQz0NYvkFo3mht7sNZQ5VPf9Yy8OgYOtckWM9mHcKxdmYOyN25vXdhplZ/VvQh9v+7D1trrGmjPjyF4n32q42rdSG7Vm/q65hUwF/p0u4/sV9d6X2KHPgf0ebbsf19mvrP3wWalTpcK+zLar87Id2QdyxOOHsh4nR2QfjAyNgeaMf3ff/ApqrbvXQRxrsyVANbnznMNJjA69EC/UTA8FPRiPubt9DbmynPXG2jvh4hn/l0Br3WO2Lj3D9SnjTWzdzM9O3uyD4GxfQ9GZK703dqPbrM+dqWfUar/ZO66f/dlZrNaj14kHKwzc9Ne95a+ee42A9qzzm7DGfTHlseul3Gz/ez71Z8h+u9dzp2sK+vssI6qV38G5jvm3Myo+5HnQ9aDLqOYdauwzr7/I7K3x/qinM7ZE45sYr5SrYE6sMG1PQc0QaG29bEJWBT6EjTTBwfbugho54Bm/IcPH37135u760zph53+tf3YAFPXRqkHobbVgBa9a1/06AEya+/27DqnRF7dzxzO/rP6GXuyD4G+db1hJHtvbdmPvb2GVX5W7ZlyjD0OYWYz1lTXGfvU+e/jZ4esjWfqu7236PZMqXNHLqWfyzBa7x4Z00u3Q+pHdo/tRm1b1DVR4r8wsnXvE5Azqr9FYuvqGyFt1V7H+ILcn+XfcBxDHEInkBCfOOaC2uPW/WyFzc5FkofHsD1zzpKR1XABsifszUNiTJVLwoRDLh4uiEO+Ij2Up+Bn57bZfYnNH+NTZb4NeIxkg7XOvnl4CEh0Rp/2RR4DE47FzL76TLnWYEDgHn3NnXLuT9f4xLmC9lNIOOCcNpPrgzN66I8/RR6Ci0o4RERE5DYx4RAREZHlmHCIiIjIckw4REREZDlLEg7+IeSqfzx4ybDuW/+HiCIiIqew9BsOLuBTEg4u7SQsD/mrbP03L5I85LcaUk8Z/REfxl/SryKKiIhcCheXcNC/Jhlc9vylxtW/2oV8foUs85JsRI8kHHUtrG2UdPiriCIiIr/zKAnH7BuM/M2KfLMwgr71WwjmCIzLnGnP/CPZW/PVtlHCMaqD1G+tQURE5Knx4AkHCUP9sQMXc74pqO9H9AQhz5mD+pqEdHnU1wQFHWb/J0ada5ZcdHmBfqN6ERGRp8qDJxw817r6jUBPEDqMoy9jAmNSV98Dckgoktz0BKPrUkH3yIqOvS/Po8Si6yEiIvLUefCEg7r8uKOWQxOOfsEfk3AkcaAf7+u/2agwT9Uj40ZrGSUcW9+ciIiIPEUeJeHodYGLmn+fQUIwgnH9m4Nat5dwAP3RgbrR/zNAe/13JTBKOJBNUlLrQtdDRETkqfPgCQeXcb/QK4zp3y7kt1R6QpJLP8+HJBxJNJCZcWGUbEBPOPI8SyroxzpERETkn5w94UgS0H9kUhMPLvraVhMM4LJOW08AknSkvcvdSzigJzUw0xt5f/3114/XWj9LKJKM9GRGRETkKbP0G46nSE96RERExITjrPBNin9pVERE5HdMOM4IP2bxRykiIiK/Y8IhIiIiyzHhEBERkeWYcIiIiMhyTDhERERkOSYcIiIishwTDhEREVmOCYeIiIgsx4RDRERElmPCISIiIssx4RAREZHlmHCIiIjIckw4REREZDkmHCIiIrIcEw4RERFZjgmHiIiILMeEQ0RERJZjwiEiIiLLMeEQERGR5ZhwiIiIyHJMOERERGQ5JhwiIiKyHBMOERERWY4Jx4F8+/bt7uXLl3fPnj27e/78+d2XL19+tvydd+/ebbY/BOjw8ePHn08PB3My9y3AOthrysyW1NP+6dOnnzWXBXq9efPm7vv37z9r5ClBDHr79q37LxeDCceRkHi8fv36QRMOAgYXRy7AvUv91IQjl+wpFyhjSMiwT0BercMm2OYcyVBkxSaUc8jtbNnykhMO7PPixYu/+SFrqb4Zv7rUhKmTPWcdle4LK5Ks2V7znHkpXbf7sLeu3j7aR/Q5p07XQPaK0mOSPC4mHEeyl3CsgAOUS4/5OUR5HkGA2WofQbBiXZRjL6DoVMcRGPl09erVq1+2Qieej9VtBDLrhXqIXU7hFFs+Nkkkut6spdr/mhIOdEZXfGrvAqV9r8+hxEbv37//zcc7M7ufi7qunK/4P3rVZDJc0x6fA9ZZkwzsxfqxgzw+Z084OGw5nJQ///zzR6ZZAwBOkQyUksPAYeHQ1APLuOpAWyCH/oyP7H74aU9bP6C5tNI+clT6jBKO6M64rm+CQw7DqE8dnzJbN2uo9kxQqWOPCXpZ9z/+8Y+TghNzVX0ga/7w4cOPdp55T6l9617V/Yg96joYF5vQ3j/B07fuGf1HsiFrTvssKCGj6gB1bJcL9KfU+atNs7a0UWZ7fQrMNVoP+nA2aWMu2vt+z2xG3z0f7jbtdjsVdEBvQD/KFrH9OUAWa87aqq1GMO+51t3ZWteWftTN/PuWiD9X++M7PU7I47Ek4SBQff78+cfmU3jPJc2hoPzxxx8/e/+ekfKcQNfb9qA/gS6HsjsbutWDx3Pkd2fNcz/g9N36hoP6rDVEVtY1myvP1QYj0KnqNXqOrEPI+OjB/IcyG0N9Lihk4wMkn+gVXVkfdYE2ZDEWqh14X32Buq2Eo8vi+di9BurSrzPzBfrXC5fX6NLnrms8FzOdU09h3ujCe6h65rnb7FAfZgxjI/tcsIbRPoW+pnNxyHpm/nAO9ta1pd9KvS6Jvs7YhLN4bn+Q01iScBAQ6gHBAfolHEaHARlcVscGDvoyhrmh6hDnq/JqO4X2quNI75G+ldGYUbCInYAxox8P1P6BunpBjebLxXIIdfxIzz1m9qj1fDpFJ97XdXdGa5n5An2rzXjFLvRh/Dn2GrZsWddY6Wussnl/6F6fwtYeZi3MjU2ZO31HelRZh/gwMukXuh3OAfJGMtEr36ygZ9XjHGztE+vM3Ode76HrYt5Z+2jvbhH2iHOWD7vYjDVjG/ZIHp9HSThozyGi9E94GXvs4WWueugiB53ijKN5GNfHQtcbRnIqozF1nlCDMX0JZjkU9OsXIiA7l2oYzXfoAet6jfTcg/n7Nw1Q7YS82Jb3WXfmq77Q150+3Rdiizo2ete5Q11b1SfQt9sRtmw5mgfq3kKVTTlkr08l8mOLSl0LSWACM31Ha6k2q+9DXSf1dS9S+r7dF+TtyUSXc9oUtuxawSbdt87FbF3Mubfeuve3SvYIv8s+jfxWHo8HTzj64eC1BzrG87N+xh9zSJirHvaqQ5yxOl6to/RDO6ob6Vupaw0jp4+dIO01UNe+gFwu2G6P0XyHBpfIrPOmVDtuMbMH9cioegHrimz0rPPM1jLyBfqOEh1g/Dn2GrZsSd/R2uveQl3XIXt9HyJ/JLOuhfb6zVG1T6h1I7l1ndTTnr1cBfNV246Y7ct9GNlnRN3rczNaF3vQP7B1tnzilsg663ld4QtyOo+ScNTARN96YOifwE/d7FIZ0YMec9VLhLl6e57pQ984a/TPc9hz4LrWEFn1wCM3gbPr3UHmKNmA6B3Z9OESG/XdY6TnHrMx6EV9tQPUtbL+2CBy6n7Rd+YL/blzjr0G5MxsiZyRL9A/6wLa4xN1/auY6VzrmZ+EAxtm77ZsFhvVfa7r7DadQf/7JFmMz5wzqt4h+u9dzjOyvj29R/oxH/N2nY6lr4vnQ9Yz89NbpNtk5AvyeDx4wpGDm093fLWbw0DfHoyQdWiQyPiUXFYV5M3au241cHTZlO7YvT3yqy1C7ARp7+PTv+qcUueuutEX2ZRjGel5CMzVD3Xd8wqy05c+rCO6801GvZipq7qwtqybspeMVrsds9e9LSU2rfZO6b5Q5VGfde3t9TlAVl8vxDcC7/vcM5uNfKOvc2S3vi6eqa967DHbj8wdmSndF8NovXt02SmREZkp1R4hthvtyRZb65rZZLR25MxscovUPXlK674Gzp5wPCbXerBGelN3bIB6LBL80Fm2eYi9RjZzHHOpPxQkXyRnj+ErzFkTw4eEROQxYlN8wbMpl4AJxwXAxdD1fqwAdSrnvjRvlYfaay7VY34cuRrWxhr51PnQl18S4sdINljrY37SxrdG37qIPAZXk3Dkk1G+KuuFQH6tCUcNxinnWMchNjsnyDO4bbNqr0dc63mQ88D577+qLPKY3NQ3HCIiInKZmHCIiIjIckw4REREZDkmHCIiIrKci0s4+Bfl/EM3f9tBRETkdliScORXwSj1V9FG/0J/9KuUo18dFBERkevl7AlH/4aC5CFJRRKO+uuY/BrlKOmg/ty/tikiIiKPw/IfqfDtRv4A0SjhGNUB/Ud/GltERESuj0dPOGD01/DS96H/KqGIiIicn6UJR5KGJBOzhIPnnnCAP1YRERG5DZYmHCQMJBgkGnDMNxwwS0RERETkuliWcJAo9H8MOko4aKff6JsMZPgNh4iIyPWzJOEYJRvQE448129BQtr8NxwiIiLXz9kTDv5x6Oh/KCUJSRLR60f4WyoiIiK3w9J/w3Ef/HGKiIjI7XCRCQeJxujHLCIiInKdXFzCwY9QSDb8UYqIiMjtcLE/UhEREZHbwYRDRERElmPCISIiIssx4RAREZHlmHCIiIjIckw4REREZDkmHCIiIrIcEw4RERFZjgmHiIiILMeEQ0RERJZjwiEiIiLLMeEQERGR5ZhwiIiIyHJMOERERGQ5JhwiIiKyHBMOERERWY4Jh4iIiCzHhENERESWY8IhIiIiyzHhEBERkeWYcIiIiMhyTDhERERkOcsTju/fv9+9efPm7tOnTz9rZI+PHz/evXv37ufTbcM69Y3T+Pbt293r16/vvnz58rNGnhLsP7GVV5FrwISjwQXIhX8qWe/z589Pugiw08uXL38FEV55fvbs2a+CfOa5BrABl+IsKNL+4sULL80jiZ9VX8WG+F1NVvGna/GX+HrXN2uN/596traYzR2brjh7h6yLvdyam/0/p063ADaJzWoslcfHhKNx34QjAeCUT54JetVWvS72vJYggw22Eg64pkvxUhhdNNia5I362PtabIue+Pn79+939U3fc10kx8xNfKgJ3Tnp6+I5c6ETuo3mvm/MuiW6DbHNNfj/U2FJwsFms+nJMik4AuQC+vr1668+1SH62N7GM7LyqaM7U81uKZkXaKsHtl6GfVzK6IDPSMBnzlMSjq4fxB51Hb0uAaeuofZHj/oprc5Bv4xPO+8rtKetfgpDj77OyIqOGTcaHxJMq84yZ2R34Jl6Ls7sITatZ6TuM6XanDZK3e/ann1KW/Wj+8B6kIV85u9nupN1Mu6+HDt37LOCvXXN9DunPa4Z7IJ9sFPANn6DejmcPeHom57nBC42nksnFw+HJJfnbGwOePpSeN/7IyNtea4XHP1qsKC+H1Taq8MeStUFecg9xsm7nULWXOv7utG5XgDU006/Pj7PGUt9HYvO9YBWWXmOjUfr7PYb2XgEY6KDbMOe1T0JsTXJPLakvfbl/d75wBeyf7zWeZCZPaKOtrrX56DPOYI+K3xlb+6sGbutYG9dM/1W63Ut9HjEM/6OTz9121wKZ0842Nh6KPphwBkIctUBOGQcJupqQIR6YXWHghzSzMNzJbIhfUOVHWr/Y6jrHum5x2wM9dik2guqnryvNq/rok9tg6prfQ+88kz9aO7e3nXu9hvZeETXQ+Z0Pw7V1rRj09j1r7/++vHafbvuV5db5VEYX/dxxZ6hw0gm8+byqEnSOZnNzTqZl3Lu9R66Lup73Kz0c/cUwZb46+fPn3/sUxINbXM5PErCMbuA+ljoQY/39VAmSCSg9gN5aEANpzhn12uk5x70HX31h6zZpR89t3Tua4Zq527zKnu0jrQzbtTedaGt23jEof3knzbuewrVhrznRyvZ3/ueD95z4eXiTam+cw7QYU8m+oyS8PtyyNzMydwr/HS2rtTXc9Xpe/cUiZ2SaECNV/L4XFzC0Q9zraMwFhkhBy3z1EPZ6/qhHOlSA/ChoGMPxCmHBoHR2oD6HoQS/FO3pTP1dT+g1iGjtsdm1I/mrnUjnbsuIxuP6HrIHOw78qtqa+z49u3buw8fPvyw6+gbjux16rrcKu/Qfbwv6HCIH2z5/KkcMvfI589JXxfzcd5G+11ZYY9ro/szrN4vOY6zJxxsbP2kzkHg4s2ltRW4crjiMN2BuvPwWi9e+jE+sqmvz7QnoGSu2g61z6l0PQ8ha81aQvRMfZ5rANoKNt1GXR6vdb3dhsju7d2GkUUbe1116X1mMKauSeb0PQv9bNHv1atXv/r2vaW9Pvc9qPIYj5y9PULmMYl2Bx1Ga6ug1+jbQOasseZYDpl71Ce24Zx1nY6hrytnZ8+Wmf/Udd8S7E/dh0P2VB6OsyccwCZz8HP5cGByGHCEWcIBOWQZXw9bb6P0Q1bn7gEgBzNtf/7552+61D6UUwIn8o5NOGB0OEZrpl8FHXtdBT1Y72h8LoiUegEF5M/a63j6jXSpfUZB2YB5HPGJbq9+ttKv+hR7M9sL2qq/d3n9bFD6Xo/m3GMklxIZkZn6kQ9B/KzrtMXe3NV3a30ndj3Gh/fWVfeqlr19f+pUu832Sx6HJQnHKjhQp1zk10IC0DFB674w12MfykvQ4dogqF6izdAHvWri8lAQF7i0H/L8BOacJUKrGSX5IpeICceFQeAi6XioTyuPfdmzl6Ovx2WbXOyXdNHkk+VDJxuxxejT/2ryIeGxko1LTTxFRphwHEAC6aisCDTM91BB+7ETDtb50JfErfAUEnCZw/5zdh/qw4nIfbmqhENERESuExMOERERWY4Jh4iIiCzHhENERESWY8IhIiIiyzHhEBERkeWYcIiIiMhyTDhERERkOSYcIiIishwTDhEREVmOCYeIiIgsx4RDRERElmPCISIiIssx4RAREZHlmHCIiIjIckw4REREZDkmHCIiIrIcEw4RERFZjgmHiIiILMeEQ0RERJZjwiEiIiLLMeEQERGR5Zhw/OT79+93b968ufv06dPPmr/z7du3u5cvX949e/bs7vnz53dfvnz52fK0wD7YCXs9JI8177nBj16/fv0g/nMrNpPTwMfevn3r/svFYMLxk72EIzzkhfFQvHv37kciRdm7oI65xLARydmhsmcg58WLF7/ZvMu/hkTwofxnZDP2udroUJ+/FNAb/VnHiI8fP/7wgxXr2ZPdbXtOMjdldIZil1Ebes3sdYvEp2Ov2dpnNqsfLCnYvsL+p23Vft8yJhw/OTT43lrCwXpzKGODrQBF/1FgO4RTgl906gc/gWFvvy6Nh/Cfmc2w/atXr37VH+rzlwA6oyuf2LsPZR3v378/u0/syY4ffvjwYZgU3xfWyvzoMSL6zfql/drOyangJ/Hv7E0/BzObpT79k5TEdjzXPaYf8plHDmNJwpGNTibYDwIbOMoS6UNAoT3j+4Z22TX4IIdg/vXr1199+tw4Scb2uen7559/TucGnmcXRpU9GrtHHU+pQYJ1pv4YmyFzZINeF2b9MzdlNnYP5NT9OgTWNZov692ycdW79kXWY/kZchmLn1E/GntfZjZjDVyctKEH7bynfzjVz6DbDBucA3RAb0C/7kPMg16Zv67nvuzJRi/0o5w74UAWNt/yDfRjD//xj39M/QidZ223zsxfRjbDTt2n6/gua4W/3TpLEg42ZRZs+sGsm8zG4wA10PVN/uOPP345RN9wxjA240ftBPoQx2PeQ+YGZI4Sju6sVfYh0L+Or3RZtW/XO8/0AepGX62nvdPn6uvi+Zh1heiVvTiUma7og14zm23tR3R5DD9L3+gWXWb7cQozm6Wegq59T6qeee56zvysP3ebnIu+T5VVc8KebGxy7oQDW5JwYNdRElfnRK+6dxV0n31IunW6v2zZDNvWvjxjc/r89ddfP16z//H3cybWT4FlCcfM+dmcukHZODayvg9bBwmYK/JwIgJiHV/bO/TnINaA2udOwA2zw8s8dewxh5y+s2A2atuzGeutB6faAHn057XT7XfKfnTon2B5zDgYzd9hbZFf+23txynrqjbsdoLa3qF//KzqERh3rG1mbNksOjI3F1l8gb68v4+fRWZdQ20/F8ibyRyt4VzsyWb95044WGcSPOC1+h3t8TnqZj605RO3DOut9oMtm8VfqU+8+vz584/z+l//9V+/bEgf2um/wsdvmSUJRxx8dhGkvhb6jA4G7znoHPg897FxIBwrgX1E14sS2aO5R/J43y+MkVxKd/YZ9JkFq635Zjbrh4A2+tCX96MDwjzYIraEkewq61gYW/dyj+hU559BH2yO/tF7th+zdT2En1H6fjLXqTbtbNmMfc8a+FEAwTR2GOlV7TSyWfUz6ut6U0a+dh+QN5O5tfb7sicbu61IOOp5hNShR/WZ/twZybpl2IeanMGezbAPPjvqk284aK92fGp2vS/L/9Fo3/itDWKT2dSZk4ycqMqjfesioG91ptp/b+6wF5hPYSQzjAJdrRvNjT1Ya6jyqe96Rl4dA4fa5FC21jniWLuiP2Vv3N660G+Vn41s0PfrPmytva6B9nxdz/v4QB1X60Zyq97U1zWvgvlmthqt4VzsyWY/z51wjPwie8hrTexq6Tpu+cQtwh5wfuPrYc9mFPaYvQ51D3jNe3hqdj0HyxOOflB5xRlGB7NvYMbGcfqhph/OUtv3LoI4TOaKg/W589ydlr6jS5N+3VmPAb2Yj3k7vY258tz1BtrrwQCe+XcFvNY5YuPeP1CfNtbM3s303KPqfSjM3fdgRNaRvrzO9qPbrI9d6WeU6j+Zu+7ffZnZrNajFwkH68zctNf9oW+eu82A9qyz23AG/RPgT4HxmbOzZcvoP4s9e+ztU/eZCnWnnJsuc2sO9JrJ7z53y7DGUbIxotsse9x9OnvOa/VdXmmnnxzG2ROObBIbk9I3PxuXkk1LUKhtfWwCFoW+BM30wdm2LoI4Y8bzq2zpvzd315nSgxf9a/ssAMyoa6PEsaG2VSeP3rUvevSgPDuIXeeUyKv7ySv1/Wf1M7rNjrUHIKOuN4z03ltb5o/Nalsfu8rPqj1T6t6dg5nNWFNdZ+xT57+Pnx2yNp6p7/beYiSXkrkjs5c+92i9e+zJjsxaelyI7UZ7skedv8ut0C/+3dlquzWq/+7ZbWSX7mvZ51D345T9fOos/4bjGEZBTZ428YljLqg9bt3PVtjsXCQZewzbM+fWpb0SLsJ+uT0ExlS5JEw45OLhgph9lXwKT8HPzm2z+xKbjz41riafWh8j2WCtrPkxkg0g0anfQok8JiYci5l9HZxyrcGAwE0AH62Jcu5P1/jEuYL2U0g44Jw2k+uDM3rojz9FHoKLSjhERETkNjHhEBERkeWYcIiIiMhyTDhERERkOUsSjvq70Jf4q3mrYN23/g8RRURETmHpNxxcwKckHFzaSVge8lfZ+m9eJHnIbzWknjL6oy+Mv6RfRRQREbkULi7hoH9NMrjs+UuNq3+1C/n8ClnmJdmIHkk46lpY2yjp8FcRRUREfudREo7ZNxj5mxX5ZmEEfeu3EMwRGJc50575R7K35qtto4RjVAep31qDiIjIU+PBEw4ShvpjBy7mfFNQ34/oCUKeMwf1NQnp8qivCQo6zP5PjDrXLLno8gL9RvUiIiJPlQdPOHiudfUbgZ4gdBhHX8YExqSuvgfkkFAkuekJRtelgu6RFR17X55HiUXXQ0RE5Knz4AkHdflxRy2HJhz9gj8m4UjiQD/e13+zUWGeqkfGjdYySji2vjkRERF5ijxKwtHrAhc1/z6DhGAE4/o3B7VuL+EA+qMDdaP/Z4D2+u9KYJRwIJukpNaFroeIiMhT58ETDi7jfqFXGNO/XchvqfSEJJd+ng9JOJJoIDPjwijZgJ5w5HmWVNCPdYiIiMg/OXvCkSSg/8ikJh5c9LWtJhjAZZ22ngAk6Uh7l7uXcEBPamCmN/L++uuvH6+1fpZQJBnpyYyIiMhTZuk3HE+RnvSIiIiICcdZ4ZsU/9KoiIjI75hwnBF+zOKPUkRERH7HhENERESWY8IhIiIiyzHhEBERkeWYcIiIiMhyTDhERERkOSYcIiIishwTDhEREVmOCYeIiIgsx4RDRERElmPCISIiIssx4RAREZHlmHCIiIjIckw4REREZDkmHCIiIrIcEw4RERFZjgmHiIiILMeEQ0RERJZjwiEiIiLLMeEQERGR5ZhwiIiIyHJMOERERGQ5JhwiIiKyHBOOA/n27dvdy5cv7549e3b3/Pnzuy9fvvxs+Tvv3r3bbH8I0OHjx48/nx4O5mTuW4B1sNeUmS2pp/3Tp08/ay4L9Hrz5s3d9+/ff9bItYGPPcZZFlmBCceRkHi8fv36QRMOLgwujlyAe5f6MQlHTaRSTrmkuNyQg7yAHrUOm2CbcwTQyKp6rwjMW7aknnkvMeHAPi9evPibH3bfjF9dasJUQfe61+c8Y9nHWs5pk37GRrKpo411VjL2GvboUqj72WOSPC4mHEeC824lHCvgAOXSSwDK84itS7KDPC6d+xzK6FSDIpfZ27dv7169evXLVujE86G6bYHMeqEeYpdTOMaWl0ISia43a6n2v7aEY5We2GPVHuOfJEdbuuO7xBTOS084ABm03+eMPhWwc00ysOcpH6BkDWdPODi479+//7HplD///PO3zB2nSAZKyWHM4ayHn3HVgbZADv0ZH9k9kNCetv4pKZdW2keOmuBQx0F0Z1zXN5dvDsOoTx2fMls3a6j2zMVRxx4aQJHP2NE8h8JcVR/Imj98+PCjnWfeU2rfuld1P2KPug7GxSa090/w9K17Rv+RbEBG9oIyC0rIqDpAHdvlAv0pdf74OGRtaaPM9voUmGu0HvThbGa/aed91W1mM/ru+XC3abfbfUCvquc5yX6t4BC96UOJz4xIu8yJP1c74b89TsjjsSThIFB9/vz5x+ZTeJ8MnfLHH3/87P17RspzAl1v24P+BLoc2u5s6IY+CcQ8R3531jz3AEDfrW84qO+fRiIr65rNledqgxHoVPUaPUfWHujJ3IfauBPd0blCfS4o9MEHSD7RK7qyPuoCbchiLFQ78L76AnVbCUeXxfOxew1btkTWyBfoXy9cXqNLn3tvr09hpnPqKcwbXXgPVc88d5sd6sOMYWxk3xd0P5esDjpH73MS/yDJThJWfRhYU+rQYeSDQL+6N/I7sXfOUnwQu6/yHTmOJQkHhyYBiI3GAfolHLqTADK4rDL+UPqhrDrE+aq82k7pwWCk90jfymhMnSfU4MKY0Y8Hav9AXb2gRvPlYjmEzJWAeOzlN7NHredTNTrxfiuojtYy8wX6Vpvxiu70yZpq/1P2GrZsWddY6Wussnl/6F6fwsjXQtbC3NiUudN3pEeVdYgPI5N+odvhPiAnPkqZ7ckpIKvKPpfO2ASfrPJ4jx2xU7fplr2QNfJP+R+wDTbKh132Etti03P6i5zOoyQctNcD3i+5jJ0dvhnMlcMMkYNOccbRPIzrY2F0yEdyKqMxdZ5Qgwt9CfY5FPTrFyIgO5dqGM13nwOG7GOSDvr1bxqg2qnalvdZd+xSfaGvO326LyAXPevY2KXOHeoeVH0CfbsdYcuWo3mg7i1U2ZRD9vpUIj+2qNS1kAQmMNN3tJZqs/o+1HVSX/cipe/bOeg2PCczfzuFkU/Vuu4n/bky2h/5O/EL/C5+OvJbeTwePOGgvQbY0UFiPF9DMv6YoMJcjGFuqDrEGavj1TpK1QtGdSN9K3WtYeT0NbikvQbq2heQywXb7TGaD7nH2K2yt77OrD/1rKnqBawre4SeeQ+ztYx8gb6jRAcYf469hi1b0ne09rq3UNd1yF7fh5GvhboW2us3R9U+odaN5NZ1Uk979nI1W/tyX/r+ncrIP+IL//Vf//WbH6SMEv7qQzImPlr9YrQH8ng8SsJRAxN96wGjfwI/dbNLZUQPesxVLxHm6u15pg9946zRP89hz4HrWkNknRqskTlKNiB6RzZ9CFqjvofQbbTHaG2AXtRXO0BdK3PFBpFT94u+M1/oz51z7DUgZ2ZL5Ix8gf5ZF9Aen9jb63Mw07nWMz8JBzbM3m3ZLDaq+1zX2W06g/74Z5VzLIwdXcrnkI1MZHcZp8pmXGwE/blS7dlh3tV+cwtgw+ob1Yfl8XnwhCOBicNL4avdBG369kONrFFwGZHxKfXyCsibtXfd6uHvsindsXt75O8F67T38elfdU6pc1fd6ItsyiH0ddU1Hwpz9UNd97zCfOlLH9aRufkmo17M1MUGgG5ZN2UvGa12O2ave1tKbNptRum+UOVRn3Xt7fU5QFZfL6BT9Qve97lnNtvzYRjZra+LZ+qrHnt0uaO1wSmy+37UfaycIhu6/GqvTrdnpe+dzMFOsXdijVwGZ084HhOCwjU62Ehv6maB9dLIhYDOss1D7HUuuUu8oLjMudRX+Mq1yt6jJqwi14wJxwXAxdD15hPNNa3l3JfmrfJQe80ldcyPI1fD2lgjnzrPfWlfq+xDMJmXW+JqEo58wshXZb0QyDmU5w7cD0ENainnWMchNjsnyNv6yljW7fWIaz0P8j9wps59TkUei5v6hkNEREQuExMOERERWY4Jh4iIiCzHhENERESWc3EJB/8qm3/o5m87iIiI3A5LEg7+dXz+BT6/JZFfzRv9C/3Rr1Lyr7L91/UiIiK3w9kTjv4NBclDkookHPXXvPg1ylHS4V/WExERuR2W/0il/gGiUcIxqgP6+9f1REREboNHTziAbzP6H4xKX//CnoiIyPWzNOFI0pBkYpZw8NwTDvDHKiIiIrfB0oSDhIEEg0QDjvmGA2aJiIiIiFwXyxIOEoX+j0FHCQft9Bt9k4EMv+EQERG5fpYkHKNkA3rCkef6LUhIm/+GQ0RE5Po5e8LBPw4d/Q+lJCFJInr9CH9LRURE5HZY+m847oM/ThEREbkdLjLhINEY/ZhFRERErpOLSzj4EQrJhj9KERERuR0u9kcqIiIicjuYcIiIiMhyTDhERERkOSYcIiIishwTDhEREVmOCYeIiIgsx4RDRERElmPCISIiIssx4RAREZHlmHCIiIjIckw4REREZDkmHCIiIrIcEw4RERFZjgmHiIiILMeEQ0RERJZjwiEiIiLLMeEQERGR5ZhwiIiIyHJMOERERGQ5JhwiIiKyHBMOERERWY4Jh4iIiCxnecLx/fv3uzdv3tx9+vTpZ43s8fHjx7t37979fLptWKe+cRrfvn27e/369d2XL19+1si1wd69ffv2R5wUuXVMOBpcgFz4x0LgeP78+d2zZ89+lVOSBuz08uXLH5cJ8MpzlYs9ryVAYRcuxaynQ/uLFy+8NI8k56r6anyw+h3+dA3+wjqqj1POFTPOdTa3QN6W7Ogw2gv6n1ufp0z1pRpL5fEx4Whw8E9NOO77SSXJRbVVr4s9r+ESAeyylXDAtVyKlwQ+2m2GrUneqI+9r8W2rOeUc3cI5zibM5CJfbcShtpntBdpv5YYeclgw5pkzGwuj8OShCOXZLJMSg5TLqCvX7/+6lMdoo/tbTmY+cTSnalmt5R6iGmrgaFehn1cylYgqZwjqHX9IPao6+h1jGFsXUPtj271E16dg34Zn3beV2hPG3KQB+jRv9KPrOiYcaPxAZtlX2Wfkd2BZ+rfv3//aw+xaT0jdZ8p1ea0Uep+1/bsU9qqH92XzL0C7LIq4cj52YJ1Ybd//OMfv8Wr0PdJjif+Wf2Ivfcb1Mvh7AlH3/Q8J3Cx8Vw6uXjq5TkbmwOdvhTe9/7ISFue6wVHvxocqE/CEWivDnsoyLpPUOt2CtU+oa8bnesFQD3t9Ovj81xtVseyjnpAq6w8x8aUWcIRRjYewZjoINuwZ3VPQmxNMo8taa99eb93PvCF7B+vdR5kZo+oo63u9X1AzrlkdVjfqoQDe5DgYdckYtg1MHfO02zfYHSW5Di6DXnOvtQ9kcfj7AlHP1QJTNlwnIEgVx2AQ0uwoa4GRKB/LqzRoWRcgusoAEY2pG+oskPtfwxZV4JOX8ceo7UB9cjqB6bqyftq87ou+vQgV/eovofYkfrR3L2969ztN7LxiK6HzOl+HKqtacemsetff/3147X7dt2vLrfKozC+7uM594y5c3Yoo/WdCuu4z9mckbNQ5WGTmsRV+27Zq54rOQ32AH/9/PnzD1uy19iz7oE8Lo+ScMwuoNGB7EGP9znMgCMxJgG1H9hDA2o4l3Mi45jAhi6jr/4YP7v0o+eWzn3NUO3cbV5lj+yddsaN2rsuIxuPOLSf/NPGfU+h2pD3fPLO/t73fPC+Xtop1XfORXxstMZzwDrPkXTUsxBqXWwf+/TnTt0LOR72k31NogGjPZLH4+ISjh4Iah2FscgICZKZpx7YXpe+YaTLuQ791jpHjNYG1PeEgz71W6Itnamv+wG1Dhm1PTajfjR3rRvp3HU51A5dD5mDfasfh2pr7MiPET58+PDDrqNvOLLXqetyq7xD9/FczNZ4Ds65lu7v9fzQ1hO0lHqmoI6T0+j+DOwxe82ey+Nz9oSDja2f1HPocpC2Djt1XGZxmO5A3Xl4rRcv/ZKcAPX1mXbkITdz1XaofU4leh8TMDOmB5zomfo8V9k96FW6jbo8Xut6uw2R3dvz3GXRxl5XXXqfGYw5xl5Pmb5noZ8t+r169epX3763tNfnvgdVHuORs7dHyMQH7rOX3WfDOWTP1pE5R3bdotuwP1dom8mnvxfj/cGH2cfYkedj91TWcfaEA9hkAkMuHw53gkcNYiOo58BmfA0MvY0SuaHOXR0PEmzS9ueff/6mS+1DOTS41XkpPB8LY/rhGK25y0bHrfkSTEfjsV+VPQqWyJ+11/H0G+lS+/Q9gdi876WMiU90e/WzlX7Vp9ib2V7QVv29y+tng9L3ejTnHl3uyEfgFNlQ1zzSGaJD9+9DqPK3xrNfM9232uQ46n5o08tiScKxCg7yLX8KSEB9yIv3EgKdwfZ4CKqXaDP0Qa+auJyLlbIBuY9h06zrIc+9yGNgwnFhEHRO+ZR1Ko992bOX/p788eSSGn1afyzyyXJFQrBSNmfgMT8Ns6ZVSZTIJWHCcQD1K7peZl//3gfme6gA9NgJB+v0k91pPIUE/NZh71b9jRCRS+OqEg4RERG5Tkw4REREZDkmHCIiIrIcEw4RERFZjgmHiIiILMeEQ0RERJZjwiEiIiLLMeEQERGR5ZhwiIiIyHJMOERERGQ5JhwiIiKyHBMOERERWY4Jh4iIiCzHhENERESWY8IhIiIiyzHhEBERkeWYcIiIiMhyTDhERERkOSYcIiIishwTDhEREVmOCYeIiIgsx4RDRERElrM04fj48ePds2fPfpSXL1/effv27UfhPXXPnz+/+/Lly8/eErDbu3fvfj7tU+18zLhLAH0/ffr080mOgbP0+vVrz9A9wY5v3rz58Soi61iWcBAEX7x4MQ2GpwbL79+//wgOs0sKech96OARve578bOuJGeBNZGcRTaFuZizcmyiEvZshk6j+c4Bc2/5iYyJv7HnIX5SfWDl3p0b/A/fn+lbz0H/sMI6czZGH2RGH34qtF+LnWSbvb2Wx2NZwrEX6HCCW0o4cPIE/wTOPB9KxvW1Hbom5ru2hANWy79F2OtuM/aR5I367OW12BY98f33798P9aV9lEhA1p02bFMvmsjOM2dkNAf1x55ZuSwO3Wt5HJYlHKOAWMEhRgkH/RmXDLXKwHlSXwtzIQ9H6209SNE3bdUxmePt27e/HLa3Hwu6Uo4B3UZj0P8+CUe3Tfrs2YzC+95e7dJloEPAlsxVbV7bQ/ac/rIPNh+dnfgJl3bsjE3rGap7Qak2p43Cno3a+9kc+dopsB5kIZ/5q77Ae85mX29gbNUlPonu0Tn2AOSMvlWL/eLbcl0cs9fyOJw94ajBqpbqBDALmn/++eevupEDpW52OW0FDcbUy7IGt8jNZTua+xh6ENxja11ba6qg62jOP/7449dYXhOMw558+sZOlW6jLptX9j468VztX5npLr8z24/s49evX3/Ykvbat9uf55qQswf1rPJa50Fm9qjv/bnoc0LWRSKVeJI+0YO1QJ6zDtbK2KwxPkp7xoQuS66LY/ZaHoeL+4ajg5x6Ee0FhQQn5HeQU8dVHUZy+9yHgoz+zcoeW/agrn/TMNLrUH3pQ9+wZTNgPaO9ZByfPGt91aGP21rjbA75ndk+132kHZvGrn/99deP17rvUH2hy63yKIyvPrJiz9Chy2QefD560kYfdM17+vCcfllLfO7z588/+tGevpFXmdXL5XPsXsvDc3EJB89bl2sNMCNqkKxkXJVL6d9oVLkJWscQ/Wf6zWDc7Ku/2Zo6M33Rpa+7HsA9+Ywf7eVILiU69HGzPYdD1yh//6ahUm3Ie74RyB4k4eC5gpz4QvefLq+fS8rIL+4DOnSZI//r60KX6tNZF7r3T7nIYUy3BXQbyPVw7F7Lw3NRCUccpgaOHgD2HKgGycreuFH7scEnQbnqfygje4TZmjojfaNTXVeCcdiTz9jRXs7qQ2/fWuOeLPkfZn5Z9xE78u3Thw8ffth19A0HfWpdl1vl7fnIuUCH7gejuau/oHPVO+uiT18jbPlhPxtyPRy71/LwXGTCQaAA2rgse3DtAabSZVTQiTb6dGqQCvSfzdOJrqcGq9H8AdmHBPuRvoyt35wgv38a3LIZdBkh42ZrRl71AfrPDv8xtn7qdLsG7Fr9hH6vXr361RcbV/+nvT73Pajy4p97e4RM/OvUvUSHvrbMHT/rz5mT1zz3dXE243ejOSByI0euj0P3Wh6HB084Ehxq6Q6SeoIGXwv34EUgoS39GFOpc1TZUOVTouMo2ND30MBJvyqX0ufeY2YzZMwSjujd5656V93oyyffY2wG1W41mPe9oMSGvNb10HeUcIxsL3Ni826v7ifpV/eg7uPobFS/6fJGvtb9aDTnHiO5lCojctO25b/0i86hrnumW1+vXCeH7LU8DssSDjmeBNWndvH2xET2Iaheos3QB70OTdQvCXTuiYyInA8TjguDy3f0Ce1W4VOlvyd/PLnYL+mCzCfLa0w2LjWBE7klTDgOIIF0VI79sckhMN81Bu1TYJ1P7Rudc0FSOvoRlRwHdiTZ8EcpImsx4RAREZHlmHCIiIjIckw4REREZDkmHCIiIrIcEw4RERFZjgmHiIiILMeEQ0RERJZjwiEiIiLLMeEQERGR5ZhwiIiIyHJMOERERGQ5JhwiIiKyHBMOERERWY4Jh4iIiCzHhENERESWY8IhIiIiyzHhEBERkeWYcIiIiMhyTDhERERkOSYcIiIishwTDhEREVmOCYeIiIgsZ3nC8f3797s3b97cffr06WfN7fPt27e7169f33358uVnzWXz8ePHH0Wui2vzs8fk3bt3TyoGiVwiJhwDCODPnz//oTf6H0PWWy9w1v7s2bO/lUu64Lm4Xr58aUC+IkZ+Fr/lcg3s6Sl+/NBE95yP7ousqZ4f+vZEC1ukva+Zvi9evPhtjNwmOR/dT1IfP6lnBfb8sPoYZXT+avuW/JEP3zomHI3oi6P0oHUIOGAfx9q50LnYIU5XnfWxQSc+LUdHuWxGfsYecqlSn328hoQD3d6+ffsr+KJzD8acx60Ycsh5vQZbyHnI+ejfAOInSQLyQStxuH/wynmqfln9p7fzih/P/Gvk10+NJQlHNq5mejVY8D71dQMSeGjP+HpRQ5fdA8hM9qHEUf/xj38cHZzQbfQVd9ZT19Hr+rpqMsJ7Cgcl7YwP6IiuaduzWZVdQf6sTS4H9nPkZzxT//79+1/7iJ9UP6Y+fkCpfkQb5VA/S+A+N/HXOjdz1ecK694K9CH6z+TIbYA/kAiwz/WcpD7PgL/nfNT3ocbEnI3QzyGvMz+kribVT5WzJxw51NmkPOeQ902nPhdk+iZR6LKgOkBnS/Yh1PGM7c63x2zMSI86V19nD7jUE+DTzmudh+dZ8N+TXTllzfLwzPYJXyIAfv369Yc/0F778r76Ic81Kd/zM2TGz6irfnVORj7KvPW5gg4Ec/RJMjTTi/rZWZHrp/olflQTgnoW8oyv5EyMfKPWIYfzEt+ivsqjfZZw5GzyYSA+Wsc+Fc6ecPRN5ZXnBAs2KxsGtb33he4EfZMrW7IPAdkZ39dxCF3XgKwa6KEehpGjVlldbpw38mjv8sOe7EqXK5fJIftHO34XP/7rr79+vDK2Qr/UdblVHoXx1TdOOSOHgA5dLnUJ1JS6Dtpq4sQrz+jXWaWzXAZ1f/HVxNja9vnz5x/+QcwkOU8fSv3AGj+qZwK5yMAHaz2kf3y0xmTmrn4bOV3GrfPgCUcPHCm0977Qg2Dd8IwLW7L3oE/Vuz8fAvOPHAhZPSGozk37SO/I2roIQl17DcZ7siv9gMplwt6N9q/6Be/5NBU/TsLBcwU58ZctP+N9DaYpx56RPdBhljwH2ugTvesawqgO6prktmBPa/zqz4mF1b+6P+Az1bc/fPjwy49yBpCTe2jLVxmX9pzDelZGdbfOoyQco0AAvS/QtwbBSnUA2JK9B2PjaL1UfbaY6cr47ph7zljpcvshqVCH3NhhT3ZlS65cDjM/q/vHfvPNFgGT/R99w5HzlrotP3sI32B+zjNz7YGeM72htleOOQ9yXbC3o/hNwR/wq/oNBuz5A+Pok/fVz/r56eydn6foi2dPOPqmskFseDaN11lQyQamL4yCSWDzuFwPkX0syDrWGWZjqK8JB8/VJlnHzHG7DUbOG/oh2JNdOWXN8vDM9qn7Bf1evXr1qy8+0P2wPm/5WfxqdhYDMhPgj4G5Dz27zFH78tq/Cu8XS+hrlNsFv8V/4wfx4ZyHPM9iI35SfYX3GQvIxQ/xx04/L32uvblvlbMnHIARk1nmgNdNSVBKSdDLJtS+GQ/0oW8d2zdsJvtYkFOd6xCiX9Ufuk6jwDpaW+RUGwBj+0VQx9W+sCW7wrhuT7k8Zn5W/QLSr/ox+xsf6H645Wcw8rXuL6M598iYKpcSGb2d99Ep1DM2S1yi/8j35fbAR2rCAd2Hq/92P+u+PfL/6kv1bFFmZ2PW/hRYknA8ZXCiY4LtpdAvF7lsLtXPEpR70nsJcDlc49kUuRVMOM5MAu41Za/JvP3kdz1cop+hC5/cLjHZIKGe/ZhFRB6GJ5NwEATzVVYvo69o7wOy+ld5lwwXxTUlSPJPrs3PHhPOvwm1yOPiNxwiIiKyHBMOERERWY4Jh4iIiCzHhENERESWY8IhIiIiyzHhEBERkeWYcIiIiMhyTDhERERkOSYcIiIishwTDhEREVmOCYeIiIgsx4RDRERElmPCISIiIssx4RAREZHlmHCIiIjIckw4REREZDkmHCIiIrIcEw4RERFZjgmHiIiILMeEQ0RERJZjwiEiIiLLWZ5wfP/+/e7Nmzd3nz59+llz+3z79u3u9evXd1++fPlZc9l8/PjxR5Hr4tr8bCX6sMjlY8JRIGA9e/bsb+VYvbPeGvyQ0eVeUnDk4nr58uWTSgqvnZGfkXg8f/787t27dz9r/ul79KP/pRM/HOmbttn50YcFci7iJ/UswFaMH8VpSj9PqeesmewfhwlHAWe8byLA+B4wWTvBkKAIuRjuO9c5QSc+LUdHuWxGfsYevnjx4kd99hHf6/0ukZyR9+/f/6ZvYkjOS85Pjyn6sOAj8ZMkoTXO1vY9Rn7H+eIVqK9xXfZZknBko2uWWIMD70dZIhv89u3bX8GH9r6hXXYPTjPZh3CMM45At9FX3FlPXUev6+uqekQvMu20Mz7kYKRtz2azNSL/PuuXh4H9HPkZz9RzaWcf8ZN6RqiPH1CqH9FGOdTP+qfHU2E9yEI+84/OdPdp+o/mpy5rF+l+Eh8/hJyn+F2Xlbhaz4hsc/aEI0Epm5rnbAqbWLPEGkzSN4lClwVbAWVL9iEc44wjmK8HSxjpUXXt6+yOTD0BPu281nl4rgehsie7MtNfLovZPuFLBMivX7/+8Afaa1/eVz/kuSble35WAy511a/ORZ8TqKv+zTN6jmygD0ul+izgO4f6LOPSN/6Of9Xnel5kn7MnHP3A943qG17be1+gb3UY3lf5lS3Zh8BYHCilznsIXdfA/D3h4H0+pVL4ZqeuqcrqcnOxRB7tXX7Yk13pcuUyOWT/aMfvKJyBv/7668crYyv0S12XW+VRGF99I7JHZ/FU0KHLjF7Ml0Tj8+fPQ1/VhyXgL/1bbnzpkBjf/ajeJYxhLLL6mZFtHjzhyGb1QnvvC31D06eOC1uyjyXzHONM9B31Z/6eEODQ+YaD9pHekdVtMAqqtGcc/cOe7ArykFsPqFwe7N1o/6pf8J4frbD/+HESjn4WkBN/2fIz3hO8ux8hM2f9HKBDl0ldnyvr6nPrwwLx1+7vla0Y389Y+uKHNb7W8yP7PErCMdug3hfoO3II6E517s3fmnvErD/69YSDvqnrNut0ufUi6FCH3NhhT3ZlS65cDjM/q/vHfvPN1ocPH37s/+gbjpy31G352UP5Bjp0f52dnz0byNMEH+BeqL4+Y+RHjK8/mg/0q31zfnL/yD5nTzj6ZrFBZIXZFF7711xhtIGzwAIEFQLRIbKPBRl7GXKHvj1YAvU1YPJcbZJ1zA5ItwG6zYJqv0T2ZFdm+stlMdun7hf0e/Xq1a+++ED3w/q85Wfxq9lZDMjEt/f6zUCHvrb4cGTmmbk6M9vI0yBx+5B4N4vx+NnIf+Pb6c9rPT+yz9kTDmCz2RhKgljd1GxcSjYtQa32rUEwgaaO7Y41k71H5s64UxKXWSDsOo1kj9YWOdUGMLoI6rh+WLZkVxjX7SmXx8zPql9A+tULmP2ND3Q/3PIzGPla95fRnHuM5FKqjMhN28h/QR9+2rD/1Yco8fPuZ6M4jF9txX7aMx5/zNmQw1iScDxlCHbHBNtLoV8uctlcqp8lqPek9yHQh0UuGxOOM5OAe02fsvLpcfapUS6PS/QzdOGT32MkG/qwyOXzZBKO0VdtKef+agxZfNKafS13aXBRXFOCJP/k2vxsJfqwyOXjNxwiIiKyHBMOERERWY4Jh4iIiCzHhENERESWY8IhIiIiyzHhEBERkeWYcIiIiMhyTDhERERkOSYcIiIishwTDhEREVmOCYeIiIgsx4RDRERElmPCISIiIssx4RAREZHlmHCIiIjIckw4REREZDkmHCIiIrIcEw4RERFZjgmHiIiILMeEQ0RERJZjwiEiIiLLMeEQERGR5ZhwiIiIyHJMOERERGQ5JhwiIiKyHBMOERERWY4Jh4iIiCzn6ITj27dvdy9fvrx79uzZ38qbN2/uvn//fvfly5e758+f/9b+7t27H+M/fvz4Wxvl06dPS2UD/Xob8pC7N/dK2XvrWin7PutaKVub/b1cuw9vzf2Y+6HN/l4OWddK2fdd10rZt2qzh8RvOERERGQ5fsNxYJZo1v4/JXOvlK3N/l6u3Ye35n7M/dBmfy+HrGul7Puua6XsW7XZQ+I3HCIiIrKcecLx//7f3d3//t//3eO/u1gslvsXztOHDz8PmIjI0+K/o+CE//W/fg+YFovlfuVf/uXnARMReVr8dwScMAqWFovl/kVE5Akyj34GSJHz4XkSkSfOPPoZIEXOh+dJRJ448+hngBQ5H54nEXnizKOfAVLkfHieROSJM49+BkiR8+F5EpEnzjz6XWiArH9xjb/OJnIVXOh5EhF5KObRbxIg+VOr9c+jpvCnVfkTq4fAn1p9/fr1wf1HkHiYcBxH9m70J23zp3Xzp3Q7/Ilc/lRu/pzuofQ/2dv3rCaQ+VO8of/J3qve78l5EhF5Ksyj306AzAV0yiVgwvHwYGts/vbt278lHNnH9+/f/7jcZwkHtqYfMg5NOJBVkwjGvXjx4tf4yEw7ekW37l9JPmb6XTw750lE5NaZR7+dALmVcHCh1P8sJpdI/8SaUj81R27a6oVUOSXhoD+FsZFfL7CtudGPy/br16+/1tB1Q3bG1jUxBxc9/an/888/f7zW8d02XTagN31OSdQYG5vxGnhGv60LnXWQKNB2TMLR52KOjB/NFxvTRn1fa5d3VeycJxGRW2ce/XYCZC5nLoFKv0jyXPvVi6XDZZwLbTYH5PI8BvpzmWdcv9S25qaeJCGJRF8ndYwPjEvSQB/m5RW9GUfiUi/vQ9aTsSO7bVHXyRyjS7uvJ1Q70OeYhCM2y7qYNzYZyap16JG+YVR3NeycJxGRW2ce/XYCZL2IKjzvXRRcKLOEozO7IA+5oDtd1t4FWvvn8qwX8pYOdY11/RnT56Z+xWWafYre3QYBfUYJR9V9z14jMj8JV5+X51rH+1lCl+cVNnoQds6TiMitM49+OwEyF0m/cEcXWr20oF7GHdq4dPKjhdFFBdTNLvsZXbd+qW3NvaUz1Is1Bdn0r+uP3tTXy7uPj073pa95tD/QbQFdx/68R+yJzKwvNoHMmTXzDRF90s64tNGP9pHuV8HOeRIRuXXm0W8nQOYC6Zc+z7lcQ6+bXd65gKrM2QWZi/sYuizmywW6N/dM50C/2RoPSTgq1PVvU04he5RLu5Z8kxCy/jpnvfB7qXacQZ/aL/rM9g19+LcusWGHcbOxF8/OeRIRuXXm0W8nQM4uj35Zji6yUR30+sgaXW65uI+B/lUW75MI7M3N817Ckb6xDfLoj8zMQx/0oH6WcHRdAmMj81S6DcJszspMZ8aMkhCes26ITUdz0FZ/g6WD3lXW1bFznkREbp159NsJkLlUR5d+LpZ8Gh71ySVFoW8uGvqmnguQX9fMRZZLMe0pI/kjqmxKv8C25ka/rYSjr/nDhw+/+rPWrYRjtK7RmhhLv5kOh4DcrAnqPtQySgqqzpXo3+0ZH5nJ7fau6+pjq85Xyc55EhG5debR7wYDZL9s5TwkOdC2G9zgeRIROYZ59LvBAGnCcX7yLYV23eEGz5OIyDHMo98NBkgTDnk0bvA8iYgcwzz6GSBFzofnSUSeOPPoZ4AUOR+eJxF54syjnwFS5Hx4nkTkiTOPfgZIkfPheRKRJ848+hkgRc6H50lEnjjz6PeIAXL2h6Tuy95vqeRXPP01Tzk7j3ieREQugXn0mwTI2V+mvO9fwKw8VsIR/PXZ84M98ZPRXzClrf612U7+iuux/pA5U+rc8bG0seeV/pdjR3ofxeQ8iYg8FebRbydA5q9L9kB9yZhwPA5c1vxJdMro0ufPwM/+H5X6V0yPSTj6HjJvkuLuu9EjuvVn9Nr6f14OYuc8iYjcOvPotxMgZwlH6gnW+YTZP73Slk+O/dMj8lLfL30ugsjOp89+Ce3JRmb06u2hX1ahyt76RN5BP/4XVMbnU3Uuv5BLLvLr/IxjnZ8/f/617toem2dstQlr4f+EQTaF/+J9JD9jKX1Pgf5d50PIuv7xj3/82ruAXthw60JHF8ZlfN3rLdC3rgPZ9f+26Wupe54561xd3tHsnCcRkVtnHv12AmQuuR6E6+WXNoJ1gjlB/o8//vjxHkbBH+oFEHJ5pX+ec4ntyUZm1euYufulOBs7IjapSUq1CaB3ZPFa18Ureme+rgtJRN73feGVeUlWqKfwPpcvZfQfsnXQ9dD1VrLO6JU1Vfp6Qq1nHOORcwixGa+ZO/Yeyap1o/0f1R3FznkSEbl15tFvJ0AmiOdiCz24w9ZlMbvwRgF+1Jc+XYfQ+3eZtNeLPYzmpq7Ok3X2sSNGfbdsAnVd9K3Jyt7cVf+8r2OQUxMObFDXdi7qPFs602+UcHQbbNlrRNbWv7Xp+57nyO/68Ir9u08cxc55EhG5debRbydA5gLpF9XWxRII3FwCKfUyDbkoK1wMewnHluwuc6braO4uN2VrnWE0D++55FhTnrvsrIu2XIYjciHWsdE/a6k60D+JANTxVaf70Nc8szUwf084+pr3bNChf/a+JxRpj61o41uiuufYLe2M49+ZZD9OYuc8iYjcOvPotxMgc4H0ILx1sQD966XGa08iIBdlZdSXPtFhT3aXeczcdZ5jGdmkXqDMz+VY2+t8tW+HNbDmqlvVP++rDsxXE44K/asNTyVryqVdS18LfXvCgc6jsZRqpxFZa7VJ7DQbS9/av4M+e/NusnOeRERunXn02wmQo6AO9WIbQf964RDI80m0Qr9cmmGUINAnOuzJ7jJ7/zCam/WM9DyEbpOeJCCzXrj042JNO88jPaFfpMhAz+iftVQd6DNLOGgfJRzIuE8i0m1Q6esfMbMB9diq7lfmqnX0m+3fzA8Ccqqsk9g5TyIit848+u0EyAT1XIph62KBXJD5tMpvKiSJyNi0pSTYM3Yr4diSDfSrcuslszc35HJLOfQCHsnudmOetNGX32pJn9llG+q60Il1R2/aeB8dkIU9knD0Nc0uZWScO+Ho+7E1/8wG2fPe1n2hyo0uaat7DH1s36uT2DlPIiK3zjz6GSDPxuiylfMQ2/ak4eLwPInIE2ce/QyQZ8OEYw35huTikw3wPInIE2ce/QyQZ8OEQzxPIvLUmUc/A6TI+fA8icgTZx79DJAi58PzJCJPnHn0M0CKnA/Pk4g8cebRzwApcj48TyLyxJlHvycaIGd/1+E+HPKPRvlNi7P+3Qe5LJ7oeRIRCfPoNwmQ/PGk+pcsYfZHmVaw+jc+HivhCNjVhOM81D8sxp6yt4/G5DyJiDwV5tFvEiBJOPgz1FygCeC3lHCswITj4cHWNcnArg/lo0Mm50lE5Kkwj36TAEnCwZ/F5s9n52LsCUe+Bcmny/5tSC7VtB96wTIuY2rJ+Oj29evXX3+aul8ydd7+Z7RrW9UZDtF7JjsJB/8jafSafeLOHJ0q+5hP6/RLspM96TahLbIpPAfe0//z58+/xlfbID9rqm3I58+z87+spp7S5dd19TaI/DrnHrF3tSN7sff/tSxlcp5ERJ4K8+g3CZD1UucSILjnUuJ9LohcHHlO8Kc+F1Cej7lAc5n0iwnQjUsxl33XhTou/YBO/fIF6vsFt6f3luzoXJMQ5PQ5gLp6UUKfa6b3iNgg46NL5qDujz/++PEe+lxZd+rQv17cjE1fXunHmMxDSbLCnJSsGxn5P11mRObIVjMYg9zoGBmjhObBmJwnEZGnwjz6TQJkvSS4BAjglFyAo8uwttf30C+HPXKRjS4OZHCx1bbRBR5mF169FMOxelfZI515Xy/2MNI3dg7H2GzUd7S+0Pszb02UtuwP0b/2q7aoc1Pf9+scZA0kOuiQRGNk2wdjcp5ERJ4K8+g3CZD18uA9P1ohmOcyHl1mtb2+h37B5RLikqifrMPWhVd1G5GxkT2SD3trgK73luyRzjNd+6U4kkupScAWXU9Afl0Lc85k93V3aK9jKciva65r7bat47fmOQbm6d9oVH0ehcl5EhF5Ksyj3yRA1suDIJ6f0+ey6JcZ1DoCfm0fXYhbMG52cVTdRnDR1bln/fulCHt6b8ke6dzlBeQwfxiNPYaRfev6eF+Trt5/pifQp39DEf2r3tUWI9uGbsNTydzVjiM7PCiT8yQi8lSYR79JgKyXB3ChvHr16tdF0S8h+nGh5ZnXeqmcchFwMY0ura5bp47LpXSubzi2ZOc5NshzvRADMno9zyM9D6Hr2fcH2XVdzH/oNxz0qf+eg77HfsNR6boAY1j7bMwMZNV1jGQ/KJPzJCLyVJhHv0mArJcH5EKowZw+BPt8VU6wD/0C6xfiIWTOLr/r1ul68c1M+ueCTFtKLro9vY+VXW3S1zPqw/vaVnXZYiSbtYTezo/I6rr6ujvYJ2Ppxzde6Jo1byUcfU3oQZ9K9Ds24YAq/1B7LWNynkREngrz6GeAvAm4sGsCIY+E50lEnjjz6GeAvAlMOC4Ez5OIPHHm0c8AeROYcFwInicReeLMo58BUuR8eJ5E5Ikzj34GSJHz4XkSkSfOPPoZIEXOh+dJRJ448+hngBQ5H54nEXnizKOfAVLkfHieROSJM49+BkiR8+F5EpEnzjz6GSBFzofnSUSeOPPoZ4AUOR+eJxF54syjXw2QFovlfEVE5Akyj37/8i+/B0qLxXL/IiLyBJlHv//7f38PlBaL5X7l//yfnwdMRORp8d8RUERERGQtJhwiIiKyHBMOERERWY4Jh4iIiCzHhENERESWc1TC8e3bt7uXL1/ePXv2bFj+8z//8+758+fDNsp//Md/DOsp//qv/3r3b//2b8M2yn1kM47xozbKv//7v/8oozbK69evh/WU+8reW9fW3PeVfR+bsVfs2aiNsnI/tNnvZW9dj+nDW+vy3I/bL9VmnvvfyzXb7OPHjz9v94fBbzhERERkOSYcIiIishwTDhEREVmOCYeIiIgsx4RDRERElmPCISIiIssx4RAREZHlmHCIiIjIYu7u/n+vV6fLo8FCCgAAAABJRU5ErkJggg==)\n",
        "\n"
      ],
      "metadata": {
        "id": "hAFBkIneA8Es"
      }
    }
  ]
}